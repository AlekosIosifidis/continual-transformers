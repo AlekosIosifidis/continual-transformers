{
 "cells": [
  {
   "cell_type": "markdown",
   "id": "1337698a-824c-4f9c-988d-0592b30ac983",
   "metadata": {},
   "source": [
    "# Example usage of CoReMultiHeadAttention\n",
    "Note: this is a fairly stupid architecture which is only for illustration purpose."
   ]
  },
  {
   "cell_type": "code",
   "execution_count": 1,
   "id": "763f3960-6184-4191-94ff-4d5af18ba968",
   "metadata": {},
   "outputs": [],
   "source": [
    "import os\n",
    "import torch\n",
    "from torch.nn import functional as F\n",
    "from torch import nn\n",
    "from torch.utils.data import DataLoader\n",
    "from torchvision import transforms\n",
    "from torchvision.datasets import MNIST\n",
    "from pytorch_lightning import Trainer, LightningModule\n",
    "from modules import CoReMultiheadAttention"
   ]
  },
  {
   "cell_type": "code",
   "execution_count": 2,
   "id": "395a30af-6528-4775-879f-620d508d81d3",
   "metadata": {},
   "outputs": [],
   "source": [
    "class CoMhaExample(LightningModule):\n",
    "    def __init__(self):\n",
    "        super().__init__()\n",
    "        # mnist images are (1, 28, 28) (channels, height, width)\n",
    "        self.co_mha = CoReMultiheadAttention(\n",
    "            embed_dim=28,\n",
    "            num_heads=2,\n",
    "            dropout=0.0,\n",
    "            bias=True,\n",
    "            add_bias_kv=False,\n",
    "            add_zero_attn=False,\n",
    "            kdim=None,\n",
    "            vdim=None,\n",
    "            batch_first=True,\n",
    "            device=None,\n",
    "            dtype=None,\n",
    "            sequence_len=28,\n",
    "        )\n",
    "        self.fc = nn.Linear(28*28, 10)\n",
    "\n",
    "    def forward(self, x):\n",
    "        batch_size, channels, height, width = x.size()\n",
    "        \n",
    "        # When using forward_step(s) to train, we need to clean_state between backward invocations.\n",
    "        # Otherwise, we will try to backward through the graph a second time \n",
    "        self.co_mha.clean_state() \n",
    "\n",
    "        # (b, 1, 28, 28) -> (b, 28, 28)\n",
    "        x = x.view(-1, 28, 28)\n",
    "        x = self.co_mha.forward_steps(x, x, x) # or forward\n",
    "        x = F.relu(x)\n",
    "        x = x.reshape(-1, 28 * 28)\n",
    "        x = self.fc(x)\n",
    "        x = F.log_softmax(x, dim=1)\n",
    "        return x\n",
    "    \n",
    "    def training_step(self, batch, batch_idx):\n",
    "        x, y = batch\n",
    "        logits = self(x)\n",
    "        loss = F.nll_loss(logits, y)\n",
    "        return loss\n",
    "    \n",
    "    def test_step(self, batch, batch_idx):\n",
    "        x, y = batch\n",
    "        logits = self(x)\n",
    "        loss = F.nll_loss(logits, y)\n",
    "        return loss\n",
    "\n",
    "    def configure_optimizers(self):\n",
    "        return torch.optim.AdamW(self.parameters())"
   ]
  },
  {
   "cell_type": "code",
   "execution_count": 3,
   "id": "9e430371-1f66-4749-a968-e240ad8f1ccb",
   "metadata": {
    "tags": []
   },
   "outputs": [
    {
     "name": "stderr",
     "output_type": "stream",
     "text": [
      "/Users/au478108/opt/miniconda3/envs/continual-transformers/lib/python3.9/site-packages/torchvision/datasets/mnist.py:498: UserWarning: The given NumPy array is not writeable, and PyTorch does not support non-writeable tensors. This means you can write to the underlying (supposedly non-writeable) NumPy array using the tensor. You may want to copy the array to protect its data or make it writeable before converting it to a tensor. This type of warning will be suppressed for the rest of this program. (Triggered internally at  ../torch/csrc/utils/tensor_numpy.cpp:180.)\n",
      "  return torch.from_numpy(parsed.astype(m[2], copy=False)).view(*s)\n"
     ]
    }
   ],
   "source": [
    "# transforms\n",
    "# prepare transforms standard to MNIST\n",
    "transform = transforms.Compose([transforms.ToTensor(), transforms.Normalize((0.1307,), (0.3081,))])\n",
    "\n",
    "# data\n",
    "mnist_train = MNIST(os.getcwd(), train=True, download=True, transform=transform)\n",
    "mnist_train = DataLoader(mnist_train, batch_size=64)\n",
    "\n",
    "mnist_test = MNIST(os.getcwd(), train=False, download=True, transform=transform)\n",
    "mnist_test = DataLoader(mnist_test, batch_size=64)"
   ]
  },
  {
   "cell_type": "code",
   "execution_count": 4,
   "id": "345e0104-5886-4d23-a221-993a9693eeb2",
   "metadata": {},
   "outputs": [
    {
     "name": "stderr",
     "output_type": "stream",
     "text": [
      "GPU available: False, used: False\n",
      "TPU available: False, using: 0 TPU cores\n",
      "\n",
      "  | Name   | Type                   | Params\n",
      "--------------------------------------------------\n",
      "0 | co_mha | CoReMultiheadAttention | 3.2 K \n",
      "1 | fc     | Linear                 | 7.9 K \n",
      "--------------------------------------------------\n",
      "11.1 K    Trainable params\n",
      "0         Non-trainable params\n",
      "11.1 K    Total params\n",
      "0.044     Total estimated model params size (MB)\n",
      "/Users/au478108/opt/miniconda3/envs/continual-transformers/lib/python3.9/site-packages/pytorch_lightning/trainer/data_loading.py:102: UserWarning: The dataloader, train dataloader, does not have many workers which may be a bottleneck. Consider increasing the value of the `num_workers` argument` (try 12 which is the number of cpus on this machine) in the `DataLoader` init to improve performance.\n",
      "  rank_zero_warn(\n"
     ]
    },
    {
     "data": {
      "application/vnd.jupyter.widget-view+json": {
       "model_id": "c3ac6fd940664fcf9c61b606807e5d20",
       "version_major": 2,
       "version_minor": 0
      },
      "text/plain": [
       "Training: 0it [00:00, ?it/s]"
      ]
     },
     "metadata": {},
     "output_type": "display_data"
    }
   ],
   "source": [
    "# Fit the model\n",
    "model = CoMhaExample()\n",
    "trainer = Trainer(max_epochs=1)\n",
    "trainer.fit(model, mnist_train)"
   ]
  },
  {
   "cell_type": "code",
   "execution_count": null,
   "id": "547004ff-a5d2-4d08-adef-a02df53b1af4",
   "metadata": {},
   "outputs": [],
   "source": []
  }
 ],
 "metadata": {
  "kernelspec": {
   "display_name": "Python 3 (ipykernel)",
   "language": "python",
   "name": "python3"
  },
  "language_info": {
   "codemirror_mode": {
    "name": "ipython",
    "version": 3
   },
   "file_extension": ".py",
   "mimetype": "text/x-python",
   "name": "python",
   "nbconvert_exporter": "python",
   "pygments_lexer": "ipython3",
   "version": "3.9.7"
  }
 },
 "nbformat": 4,
 "nbformat_minor": 5
}
